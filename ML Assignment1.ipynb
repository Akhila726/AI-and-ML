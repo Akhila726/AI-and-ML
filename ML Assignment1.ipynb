{
 "cells": [
  {
   "cell_type": "markdown",
   "id": "egyptian-watson",
   "metadata": {},
   "source": [
    "ML Assignment1 By Akhila M S"
   ]
  },
  {
   "cell_type": "markdown",
   "id": "thirty-actor",
   "metadata": {},
   "source": [
    "#importing the library tool pandas"
   ]
  },
  {
   "cell_type": "code",
   "execution_count": 1,
   "id": "liable-finnish",
   "metadata": {},
   "outputs": [],
   "source": [
    "import pandas as pd"
   ]
  },
  {
   "cell_type": "markdown",
   "id": "smooth-slovak",
   "metadata": {},
   "source": [
    "#creating the pandas object (df)"
   ]
  },
  {
   "cell_type": "code",
   "execution_count": 3,
   "id": "silent-nigeria",
   "metadata": {},
   "outputs": [],
   "source": [
    "df = pd.read_excel('Downloads/review.xlsx')"
   ]
  },
  {
   "cell_type": "code",
   "execution_count": 17,
   "id": "korean-luxury",
   "metadata": {},
   "outputs": [
    {
     "name": "stdout",
     "output_type": "stream",
     "text": [
      "Reviews given by the users\n"
     ]
    }
   ],
   "source": [
    "print('Reviews given by the users')"
   ]
  },
  {
   "cell_type": "code",
   "execution_count": 4,
   "id": "aware-lounge",
   "metadata": {},
   "outputs": [
    {
     "data": {
      "text/html": [
       "<div>\n",
       "<style scoped>\n",
       "    .dataframe tbody tr th:only-of-type {\n",
       "        vertical-align: middle;\n",
       "    }\n",
       "\n",
       "    .dataframe tbody tr th {\n",
       "        vertical-align: top;\n",
       "    }\n",
       "\n",
       "    .dataframe thead th {\n",
       "        text-align: right;\n",
       "    }\n",
       "</style>\n",
       "<table border=\"1\" class=\"dataframe\">\n",
       "  <thead>\n",
       "    <tr style=\"text-align: right;\">\n",
       "      <th></th>\n",
       "      <th>user_id</th>\n",
       "      <th>stars</th>\n",
       "    </tr>\n",
       "  </thead>\n",
       "  <tbody>\n",
       "    <tr>\n",
       "      <th>0</th>\n",
       "      <td>1</td>\n",
       "      <td>3</td>\n",
       "    </tr>\n",
       "    <tr>\n",
       "      <th>1</th>\n",
       "      <td>2</td>\n",
       "      <td>5</td>\n",
       "    </tr>\n",
       "    <tr>\n",
       "      <th>2</th>\n",
       "      <td>3</td>\n",
       "      <td>4</td>\n",
       "    </tr>\n",
       "    <tr>\n",
       "      <th>3</th>\n",
       "      <td>4</td>\n",
       "      <td>4</td>\n",
       "    </tr>\n",
       "    <tr>\n",
       "      <th>4</th>\n",
       "      <td>5</td>\n",
       "      <td>3</td>\n",
       "    </tr>\n",
       "    <tr>\n",
       "      <th>5</th>\n",
       "      <td>6</td>\n",
       "      <td>3</td>\n",
       "    </tr>\n",
       "    <tr>\n",
       "      <th>6</th>\n",
       "      <td>7</td>\n",
       "      <td>5</td>\n",
       "    </tr>\n",
       "    <tr>\n",
       "      <th>7</th>\n",
       "      <td>8</td>\n",
       "      <td>5</td>\n",
       "    </tr>\n",
       "    <tr>\n",
       "      <th>8</th>\n",
       "      <td>9</td>\n",
       "      <td>4</td>\n",
       "    </tr>\n",
       "    <tr>\n",
       "      <th>9</th>\n",
       "      <td>10</td>\n",
       "      <td>4</td>\n",
       "    </tr>\n",
       "    <tr>\n",
       "      <th>10</th>\n",
       "      <td>11</td>\n",
       "      <td>3</td>\n",
       "    </tr>\n",
       "    <tr>\n",
       "      <th>11</th>\n",
       "      <td>12</td>\n",
       "      <td>4</td>\n",
       "    </tr>\n",
       "    <tr>\n",
       "      <th>12</th>\n",
       "      <td>13</td>\n",
       "      <td>4</td>\n",
       "    </tr>\n",
       "    <tr>\n",
       "      <th>13</th>\n",
       "      <td>14</td>\n",
       "      <td>5</td>\n",
       "    </tr>\n",
       "    <tr>\n",
       "      <th>14</th>\n",
       "      <td>15</td>\n",
       "      <td>3</td>\n",
       "    </tr>\n",
       "  </tbody>\n",
       "</table>\n",
       "</div>"
      ],
      "text/plain": [
       "    user_id  stars\n",
       "0         1      3\n",
       "1         2      5\n",
       "2         3      4\n",
       "3         4      4\n",
       "4         5      3\n",
       "5         6      3\n",
       "6         7      5\n",
       "7         8      5\n",
       "8         9      4\n",
       "9        10      4\n",
       "10       11      3\n",
       "11       12      4\n",
       "12       13      4\n",
       "13       14      5\n",
       "14       15      3"
      ]
     },
     "execution_count": 4,
     "metadata": {},
     "output_type": "execute_result"
    }
   ],
   "source": [
    "df"
   ]
  },
  {
   "cell_type": "markdown",
   "id": "balanced-algeria",
   "metadata": {},
   "source": [
    "#slicing the data"
   ]
  },
  {
   "cell_type": "code",
   "execution_count": 5,
   "id": "preliminary-violence",
   "metadata": {},
   "outputs": [
    {
     "data": {
      "text/plain": [
       "0     3\n",
       "1     5\n",
       "2     4\n",
       "3     4\n",
       "4     3\n",
       "5     3\n",
       "6     5\n",
       "7     5\n",
       "8     4\n",
       "9     4\n",
       "10    3\n",
       "11    4\n",
       "12    4\n",
       "13    5\n",
       "14    3\n",
       "Name: stars, dtype: int64"
      ]
     },
     "execution_count": 5,
     "metadata": {},
     "output_type": "execute_result"
    }
   ],
   "source": [
    "stars = df.iloc[:, 1]\n",
    "stars"
   ]
  },
  {
   "cell_type": "markdown",
   "id": "lyric-granny",
   "metadata": {},
   "source": [
    "calculating mean by using built-in method"
   ]
  },
  {
   "cell_type": "code",
   "execution_count": 6,
   "id": "relevant-washer",
   "metadata": {},
   "outputs": [
    {
     "name": "stdout",
     "output_type": "stream",
     "text": [
      "3.933333333333333\n"
     ]
    }
   ],
   "source": [
    "print(stars.mean())"
   ]
  },
  {
   "cell_type": "markdown",
   "id": "devoted-administration",
   "metadata": {},
   "source": [
    "calculating median by using built-in method"
   ]
  },
  {
   "cell_type": "code",
   "execution_count": 7,
   "id": "found-syndicate",
   "metadata": {},
   "outputs": [
    {
     "name": "stdout",
     "output_type": "stream",
     "text": [
      "4.0\n"
     ]
    }
   ],
   "source": [
    "print(stars.median())"
   ]
  },
  {
   "cell_type": "markdown",
   "id": "transparent-factory",
   "metadata": {},
   "source": [
    "calculating mode by using built-in method"
   ]
  },
  {
   "cell_type": "code",
   "execution_count": 8,
   "id": "coupled-michigan",
   "metadata": {},
   "outputs": [
    {
     "name": "stdout",
     "output_type": "stream",
     "text": [
      "0    4\n",
      "dtype: int64\n"
     ]
    }
   ],
   "source": [
    "print(stars.mode())"
   ]
  },
  {
   "cell_type": "markdown",
   "id": "careful-diary",
   "metadata": {},
   "source": [
    "calculating variance by using built-in method"
   ]
  },
  {
   "cell_type": "code",
   "execution_count": 9,
   "id": "pleased-period",
   "metadata": {},
   "outputs": [
    {
     "name": "stdout",
     "output_type": "stream",
     "text": [
      "0.6380952380952379\n"
     ]
    }
   ],
   "source": [
    "print(stars.var())"
   ]
  },
  {
   "cell_type": "markdown",
   "id": "comic-space",
   "metadata": {},
   "source": [
    "calculating the SD by uding built-in method"
   ]
  },
  {
   "cell_type": "code",
   "execution_count": 10,
   "id": "fatty-metro",
   "metadata": {},
   "outputs": [
    {
     "name": "stdout",
     "output_type": "stream",
     "text": [
      "0.7988086367179801\n"
     ]
    }
   ],
   "source": [
    "print(stars.std())"
   ]
  },
  {
   "cell_type": "markdown",
   "id": "vocational-horizon",
   "metadata": {},
   "source": [
    "#calculating the mean by mathematical operation(non built-in method)"
   ]
  },
  {
   "cell_type": "code",
   "execution_count": 12,
   "id": "personal-anderson",
   "metadata": {},
   "outputs": [
    {
     "name": "stdout",
     "output_type": "stream",
     "text": [
      "3.933333333333333\n"
     ]
    }
   ],
   "source": [
    "print(sum(stars) / len(stars))"
   ]
  },
  {
   "cell_type": "code",
   "execution_count": 19,
   "id": "private-plaza",
   "metadata": {},
   "outputs": [
    {
     "name": "stdout",
     "output_type": "stream",
     "text": [
      "    user_id  stars\n",
      "0         1      3\n",
      "4         5      3\n",
      "5         6      3\n",
      "10       11      3\n",
      "14       15      3\n",
      "2         3      4\n",
      "3         4      4\n",
      "8         9      4\n",
      "9        10      4\n",
      "11       12      4\n",
      "12       13      4\n",
      "1         2      5\n",
      "6         7      5\n",
      "7         8      5\n",
      "13       14      5\n"
     ]
    }
   ],
   "source": [
    "df.sort_values(by=['stars'],inplace=True,ascending=True)\n",
    "print(df)"
   ]
  },
  {
   "cell_type": "markdown",
   "id": "administrative-delay",
   "metadata": {},
   "source": [
    "#calculating the median by mathematical operation(non built-in method)"
   ]
  },
  {
   "cell_type": "code",
   "execution_count": 4,
   "id": "revolutionary-summary",
   "metadata": {},
   "outputs": [
    {
     "ename": "NameError",
     "evalue": "name 'star' is not defined",
     "output_type": "error",
     "traceback": [
      "\u001b[1;31m---------------------------------------------------------------------------\u001b[0m",
      "\u001b[1;31mNameError\u001b[0m                                 Traceback (most recent call last)",
      "\u001b[1;32m<ipython-input-4-142760a6e877>\u001b[0m in \u001b[0;36m<module>\u001b[1;34m\u001b[0m\n\u001b[0;32m      1\u001b[0m \u001b[0mmedian\u001b[0m \u001b[1;33m=\u001b[0m \u001b[1;36m0\u001b[0m\u001b[1;33m\u001b[0m\u001b[1;33m\u001b[0m\u001b[0m\n\u001b[1;32m----> 2\u001b[1;33m \u001b[0mn\u001b[0m \u001b[1;33m=\u001b[0m \u001b[0mlen\u001b[0m\u001b[1;33m(\u001b[0m\u001b[0mstar\u001b[0m\u001b[1;33m)\u001b[0m\u001b[1;33m\u001b[0m\u001b[1;33m\u001b[0m\u001b[0m\n\u001b[0m\u001b[0;32m      3\u001b[0m \u001b[1;33m\u001b[0m\u001b[0m\n\u001b[0;32m      4\u001b[0m \u001b[1;32mif\u001b[0m \u001b[0mn\u001b[0m \u001b[1;33m%\u001b[0m \u001b[1;36m2\u001b[0m \u001b[1;33m==\u001b[0m \u001b[1;36m0\u001b[0m\u001b[1;33m:\u001b[0m\u001b[1;33m\u001b[0m\u001b[1;33m\u001b[0m\u001b[0m\n\u001b[0;32m      5\u001b[0m     \u001b[0mmedian\u001b[0m \u001b[1;33m=\u001b[0m \u001b[1;33m(\u001b[0m\u001b[0mstar\u001b[0m\u001b[1;33m[\u001b[0m\u001b[0mn\u001b[0m\u001b[1;33m/\u001b[0m\u001b[1;36m2\u001b[0m \u001b[1;33m-\u001b[0m\u001b[1;36m1\u001b[0m\u001b[1;33m]\u001b[0m \u001b[1;33m+\u001b[0m \u001b[0mstar\u001b[0m\u001b[1;33m[\u001b[0m\u001b[0mn\u001b[0m\u001b[1;33m/\u001b[0m\u001b[1;36m2\u001b[0m\u001b[1;33m]\u001b[0m\u001b[1;33m)\u001b[0m \u001b[1;33m/\u001b[0m \u001b[1;36m2\u001b[0m\u001b[1;33m\u001b[0m\u001b[1;33m\u001b[0m\u001b[0m\n",
      "\u001b[1;31mNameError\u001b[0m: name 'star' is not defined"
     ]
    }
   ],
   "source": [
    "median = 0\n",
    "n = len(stars)\n",
    "\n",
    "if n % 2 == 0:\n",
    "    median = (stars[n/2 -1] + stars[n/2]) / 2\n",
    "else:\n",
    "    median = stars[n//2]\n",
    "print(median)"
   ]
  },
  {
   "cell_type": "markdown",
   "id": "fifteen-blood",
   "metadata": {},
   "source": [
    "#calculating the mode by mathematical operation(non built-in method)"
   ]
  },
  {
   "cell_type": "code",
   "execution_count": 14,
   "id": "cheap-baptist",
   "metadata": {},
   "outputs": [
    {
     "name": "stdout",
     "output_type": "stream",
     "text": [
      "4\n"
     ]
    }
   ],
   "source": [
    "x = dict((key, (stars==key).sum()) for key in stars)\n",
    "m = max(x.values())\n",
    "for key,value in x.items():\n",
    "    if value == m:\n",
    "        print(key)"
   ]
  },
  {
   "cell_type": "markdown",
   "id": "diverse-country",
   "metadata": {},
   "source": [
    "#calculating the variance by mathematical operation(non built-in method)"
   ]
  },
  {
   "cell_type": "code",
   "execution_count": 15,
   "id": "nominated-amateur",
   "metadata": {},
   "outputs": [
    {
     "name": "stdout",
     "output_type": "stream",
     "text": [
      "0.5955555555555555\n"
     ]
    }
   ],
   "source": [
    "print(((stars - stars.mean()) ** 2 ).sum() / len(stars))"
   ]
  },
  {
   "cell_type": "markdown",
   "id": "generic-alert",
   "metadata": {},
   "source": [
    "#calculating the SD by mathematical operation(non built-in method)"
   ]
  },
  {
   "cell_type": "code",
   "execution_count": 16,
   "id": "organizational-transsexual",
   "metadata": {},
   "outputs": [
    {
     "name": "stdout",
     "output_type": "stream",
     "text": [
      "0.771722460186015\n"
     ]
    }
   ],
   "source": [
    "import math\n",
    "print(math.sqrt(float(((stars - stars.mean()) ** 2 ).sum() / len(stars))))"
   ]
  },
  {
   "cell_type": "code",
   "execution_count": null,
   "id": "opposed-bubble",
   "metadata": {},
   "outputs": [],
   "source": []
  }
 ],
 "metadata": {
  "kernelspec": {
   "display_name": "Python 3",
   "language": "python",
   "name": "python3"
  },
  "language_info": {
   "codemirror_mode": {
    "name": "ipython",
    "version": 3
   },
   "file_extension": ".py",
   "mimetype": "text/x-python",
   "name": "python",
   "nbconvert_exporter": "python",
   "pygments_lexer": "ipython3",
   "version": "3.9.0"
  }
 },
 "nbformat": 4,
 "nbformat_minor": 5
}
